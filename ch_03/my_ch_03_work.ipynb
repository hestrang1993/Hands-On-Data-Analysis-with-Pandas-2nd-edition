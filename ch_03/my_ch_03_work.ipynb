{
 "cells": [
  {
   "cell_type": "markdown",
   "id": "544acbe1-38d3-41ae-bf2f-a10a4a2da847",
   "metadata": {},
   "source": [
    "# Chapter 03: Data Wrangling with ``pandas``\n",
    "\n",
    "In this chapter, I will:\n",
    "\n",
    "* Discuss the process of data manipulation\n",
    "* Learn how to explore an API to gather information\n",
    "* Clean and reshape data with ``pandas``\n",
    "\n",
    "This notebook will use daily temperature data from the [National Centers for Environmental Information (NCEI) API](https://www.ncdc.noaa.gov/cdo-web/webservices/v2). I will use the Global Historical Climatology Network - Daily (GHCND) dataset for the Boonton 1 station (GHCND:USC00280907).\n",
    "\n",
    "<div class='alert alert-info' role='alert'>\n",
    "    <span>See the documentation <a href='https://www1.ncdc.noaa.gov/pub/data/cdo/documentation/GHCND_documentation.pdf'>here</a>.</span>\n",
    "    <br>\n",
    "    <span><b>Note</b>: The NCEI is part of the National Oceanic and Atmospheric Administration (NOAA) and, as you can see from the URL for the API, this resource was created when the NCEI was called the NCDC. Should the URL for this resource change in the future, you can search for \"NCEI weather API\" to find the updated one.</span>\n",
    "</div>\n",
    "\n",
    "## Setup\n",
    "\n",
    "Here, I will import the main modules I'll need (``matplotlib.pyplot`` & ``pandas``) and create two ``DataFrame`` instance:\n",
    "\n",
    "* A wide data format instance\n",
    "* A long data format instance"
   ]
  },
  {
   "cell_type": "code",
   "execution_count": 4,
   "id": "0cb5a2c0-732f-4318-a416-7698db28e1a3",
   "metadata": {},
   "outputs": [
    {
     "name": "stdout",
     "output_type": "stream",
     "text": [
      "<class 'pandas.core.frame.DataFrame'>\n"
     ]
    }
   ],
   "source": [
    "# Necessary imports\n",
    "from matplotlib import pyplot as plt\n",
    "import pandas as pd\n",
    "\n",
    "# File paths\n",
    "wide_data_file_path = 'data/wide_data.csv'\n",
    "\"\"\"\n",
    "str: The relative pathway to the wide data format CSV.\n",
    "\"\"\"\n",
    "long_data_file_path = 'data/long_data.csv'\n",
    "\"\"\"\n",
    "str: The relative pathway to the long data format CSV.\n",
    "\"\"\"\n",
    "\n",
    "# Variables for building the DataFrame instances\n",
    "use_columns_long = ['date', 'datatype', 'value']\n",
    "\"\"\"\n",
    "list of str: The column headings for the columns I want to use for the long data format DataFrame instance.\n",
    "\"\"\"\n",
    "parse_date_arg = ['date']\n",
    "\"\"\"\n",
    "[str]: This variable will be used to tell pandas to parse the DataFrame instances along the date format.\n",
    "\"\"\"\n",
    "\n",
    "# Creating the DataFrame instances: wide & long\n",
    "wide_df = pd.read_csv(wide_data_file_path, parse_dates = parse_date_arg)\n",
    "print(type(wide_df))\n",
    "\"\"\"\n",
    "pandas.core.frame.DataFrame: The wide format DataFrame instance.\n",
    "\"\"\"\n",
    "long_df = pd.read_csv(long_data_file_path, parse_dates = parse_date_arg, usecols = use_columns_long)\n",
    "\"\"\"\n",
    "pandas.core.frame.DataFrame: The long format DataFrame instance.\n",
    "\"\"\"\n",
    "\n",
    "# Sort columns in the long DataFrame instance\n",
    "long_df = long_df[use_columns_long]"
   ]
  },
  {
   "cell_type": "markdown",
   "id": "7911472b-860d-4d29-8be7-e17cabe967ec",
   "metadata": {},
   "source": [
    "## Background: Wide Data vs. Long Data\n",
    "\n",
    "<figure>\n",
    "    <img src='wide_data_vs_long_data.png' alt='Wide Data Vs. Long Data' width='100%' height='max'>\n",
    "    <figcaption style='text-align:center;'>Wide Data vs. Long Data</figcaption>\n",
    "</figure>"
   ]
  },
  {
   "cell_type": "code",
   "execution_count": null,
   "id": "f5cab815-ad92-43d9-8195-f76331e072b5",
   "metadata": {},
   "outputs": [],
   "source": []
  }
 ],
 "metadata": {
  "kernelspec": {
   "display_name": "pandas",
   "language": "python",
   "name": "pandas"
  },
  "language_info": {
   "codemirror_mode": {
    "name": "ipython",
    "version": 3
   },
   "file_extension": ".py",
   "mimetype": "text/x-python",
   "name": "python",
   "nbconvert_exporter": "python",
   "pygments_lexer": "ipython3",
   "version": "3.9.4"
  },
  "widgets": {
   "application/vnd.jupyter.widget-state+json": {
    "state": {},
    "version_major": 2,
    "version_minor": 0
   }
  }
 },
 "nbformat": 4,
 "nbformat_minor": 5
}
