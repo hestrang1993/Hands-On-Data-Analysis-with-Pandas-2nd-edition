{
 "cells": [
  {
   "cell_type": "markdown",
   "id": "544acbe1-38d3-41ae-bf2f-a10a4a2da847",
   "metadata": {},
   "source": [
    "# Chapter 03: Data Wrangling with ``pandas``\n",
    "\n",
    "In this chapter, I will:\n",
    "\n",
    "* Discuss the process of data manipulation\n",
    "* Learn how to explore an API to gather information\n",
    "* Clean and reshape data with ``pandas``\n",
    "\n",
    "This notebook will use daily temperature data from the [National Centers for Environmental Information (NCEI) API](https://www.ncdc.noaa.gov/cdo-web/webservices/v2). I will use the Global Historical Climatology Network - Daily (GHCND) dataset for the Boonton 1 station (GHCND:USC00280907).\n",
    "\n",
    "<div class='alert alert-info' role='alert'>\n",
    "    <span>See the documentation <a href='https://www1.ncdc.noaa.gov/pub/data/cdo/documentation/GHCND_documentation.pdf'>here</a>.</span>\n",
    "    <br>\n",
    "    <span><b>Note</b>: The NCEI is part of the National Oceanic and Atmospheric Administration (NOAA) and, as you can see from the URL for the API, this resource was created when the NCEI was called the NCDC. Should the URL for this resource change in the future, you can search for \"NCEI weather API\" to find the updated one.</span>\n",
    "</div>\n",
    "\n",
    "## Setup\n",
    "\n",
    "Here, I will import the main modules I'll need (``matplotlib.pyplot``, ``pandas``, and ``seaborn``) and create two ``DataFrame`` instance:\n",
    "\n",
    "* A wide data format instance\n",
    "* A long data format instance"
   ]
  },
  {
   "cell_type": "code",
   "execution_count": 5,
   "id": "0cb5a2c0-732f-4318-a416-7698db28e1a3",
   "metadata": {},
   "outputs": [
    {
     "name": "stdout",
     "output_type": "stream",
     "text": [
      "<class 'pandas.core.frame.DataFrame'>\n"
     ]
    }
   ],
   "source": [
    "# Necessary imports\n",
    "from matplotlib import pyplot as plt\n",
    "import pandas as pd\n",
    "import seaborn as sns\n",
    "\n",
    "# File paths\n",
    "wide_data_file_path = 'data/wide_data.csv'\n",
    "\"\"\"\n",
    "str: The relative pathway to the wide data format CSV.\n",
    "\"\"\"\n",
    "long_data_file_path = 'data/long_data.csv'\n",
    "\"\"\"\n",
    "str: The relative pathway to the long data format CSV.\n",
    "\"\"\"\n",
    "\n",
    "# Variables for building the DataFrame instances\n",
    "use_columns_long = ['date', 'datatype', 'value']\n",
    "\"\"\"\n",
    "list of str: The column headings for the columns I want to use for the long data format DataFrame instance.\n",
    "\"\"\"\n",
    "parse_date_arg = ['date']\n",
    "\"\"\"\n",
    "[str]: This variable will be used to tell pandas to parse the DataFrame instances along the date format.\n",
    "\"\"\"\n",
    "\n",
    "# Creating the DataFrame instances: wide & long\n",
    "wide_df = pd.read_csv(wide_data_file_path, parse_dates = parse_date_arg)\n",
    "print(type(wide_df))\n",
    "\"\"\"\n",
    "pandas.core.frame.DataFrame: The wide format DataFrame instance.\n",
    "\"\"\"\n",
    "long_df = pd.read_csv(long_data_file_path, parse_dates = parse_date_arg, usecols = use_columns_long)\n",
    "\"\"\"\n",
    "pandas.core.frame.DataFrame: The long format DataFrame instance.\n",
    "\"\"\"\n",
    "\n",
    "# Sort columns in the long DataFrame instance\n",
    "long_df = long_df[use_columns_long]"
   ]
  },
  {
   "cell_type": "markdown",
   "id": "7911472b-860d-4d29-8be7-e17cabe967ec",
   "metadata": {},
   "source": [
    "## Background: Wide Data vs. Long Data\n",
    "\n",
    "<figure>\n",
    "    <img src='wide_data_vs_long_data.png' alt='Wide Data Vs. Long Data' width='100%' height='max'>\n",
    "    <figcaption style='text-align:center;'>Wide Data vs. Long Data</figcaption>\n",
    "</figure>\n",
    "\n",
    "From the [Wikipedia article on wide and narrow data](https://en.wikipedia.org/wiki/Wide_and_narrow_data):\n",
    "\n",
    "> Wide and narrow (sometimes un-stacked and stacked, or wide and tall) are terms used to describe two different presentations for tabular data.\n",
    "> \n",
    "> Wide, or unstacked data is presented with each different data variable in a separate column.\n",
    ">\n",
    "> Narrow, stacked, or long data is presented with one column containing all the values and another column listing the context of the value. This is often easier to implement; addition of a new field does not require any changes to the structure of the table, however it can be harder for people to understand."
   ]
  },
  {
   "cell_type": "markdown",
   "id": "a644bfbf-f554-45c8-ab37-253e0a8f5de8",
   "metadata": {},
   "source": [
    "### Wide Data Format\n",
    "\n",
    "When data is in a wide data format, my variables will have their own columns."
   ]
  },
  {
   "cell_type": "code",
   "execution_count": 6,
   "id": "de28276c-01dc-44b3-992f-e6b6dcf87eb0",
   "metadata": {},
   "outputs": [
    {
     "data": {
      "text/html": [
       "<div>\n",
       "<style scoped>\n",
       "    .dataframe tbody tr th:only-of-type {\n",
       "        vertical-align: middle;\n",
       "    }\n",
       "\n",
       "    .dataframe tbody tr th {\n",
       "        vertical-align: top;\n",
       "    }\n",
       "\n",
       "    .dataframe thead th {\n",
       "        text-align: right;\n",
       "    }\n",
       "</style>\n",
       "<table border=\"1\" class=\"dataframe\">\n",
       "  <thead>\n",
       "    <tr style=\"text-align: right;\">\n",
       "      <th></th>\n",
       "      <th>date</th>\n",
       "      <th>TMAX</th>\n",
       "      <th>TMIN</th>\n",
       "      <th>TOBS</th>\n",
       "    </tr>\n",
       "  </thead>\n",
       "  <tbody>\n",
       "    <tr>\n",
       "      <th>0</th>\n",
       "      <td>2018-10-01</td>\n",
       "      <td>21.1</td>\n",
       "      <td>8.9</td>\n",
       "      <td>13.9</td>\n",
       "    </tr>\n",
       "    <tr>\n",
       "      <th>1</th>\n",
       "      <td>2018-10-02</td>\n",
       "      <td>23.9</td>\n",
       "      <td>13.9</td>\n",
       "      <td>17.2</td>\n",
       "    </tr>\n",
       "    <tr>\n",
       "      <th>2</th>\n",
       "      <td>2018-10-03</td>\n",
       "      <td>25.0</td>\n",
       "      <td>15.6</td>\n",
       "      <td>16.1</td>\n",
       "    </tr>\n",
       "    <tr>\n",
       "      <th>3</th>\n",
       "      <td>2018-10-04</td>\n",
       "      <td>22.8</td>\n",
       "      <td>11.7</td>\n",
       "      <td>11.7</td>\n",
       "    </tr>\n",
       "    <tr>\n",
       "      <th>4</th>\n",
       "      <td>2018-10-05</td>\n",
       "      <td>23.3</td>\n",
       "      <td>11.7</td>\n",
       "      <td>18.9</td>\n",
       "    </tr>\n",
       "    <tr>\n",
       "      <th>5</th>\n",
       "      <td>2018-10-06</td>\n",
       "      <td>20.0</td>\n",
       "      <td>13.3</td>\n",
       "      <td>16.1</td>\n",
       "    </tr>\n",
       "  </tbody>\n",
       "</table>\n",
       "</div>"
      ],
      "text/plain": [
       "        date  TMAX  TMIN  TOBS\n",
       "0 2018-10-01  21.1   8.9  13.9\n",
       "1 2018-10-02  23.9  13.9  17.2\n",
       "2 2018-10-03  25.0  15.6  16.1\n",
       "3 2018-10-04  22.8  11.7  11.7\n",
       "4 2018-10-05  23.3  11.7  18.9\n",
       "5 2018-10-06  20.0  13.3  16.1"
      ]
     },
     "execution_count": 6,
     "metadata": {},
     "output_type": "execute_result"
    }
   ],
   "source": [
    "# Get the first x number of columns from the wide DataFrame instance\n",
    "number_of_rows_to_get = 6\n",
    "\"\"\"\n",
    "int: The number of rows to display.\n",
    "\"\"\"\n",
    "wide_df.head(number_of_rows_to_get)"
   ]
  },
  {
   "cell_type": "markdown",
   "id": "7fc7c834-8557-4799-867f-dc55635062b7",
   "metadata": {},
   "source": [
    "This makes describing data with ``pandas`` easy."
   ]
  },
  {
   "cell_type": "code",
   "execution_count": 7,
   "id": "5f79a405-3400-4789-b34b-ecb85fda962e",
   "metadata": {},
   "outputs": [
    {
     "data": {
      "text/html": [
       "<div>\n",
       "<style scoped>\n",
       "    .dataframe tbody tr th:only-of-type {\n",
       "        vertical-align: middle;\n",
       "    }\n",
       "\n",
       "    .dataframe tbody tr th {\n",
       "        vertical-align: top;\n",
       "    }\n",
       "\n",
       "    .dataframe thead th {\n",
       "        text-align: right;\n",
       "    }\n",
       "</style>\n",
       "<table border=\"1\" class=\"dataframe\">\n",
       "  <thead>\n",
       "    <tr style=\"text-align: right;\">\n",
       "      <th></th>\n",
       "      <th>date</th>\n",
       "      <th>TMAX</th>\n",
       "      <th>TMIN</th>\n",
       "      <th>TOBS</th>\n",
       "    </tr>\n",
       "  </thead>\n",
       "  <tbody>\n",
       "    <tr>\n",
       "      <th>count</th>\n",
       "      <td>31</td>\n",
       "      <td>31.000000</td>\n",
       "      <td>31.000000</td>\n",
       "      <td>31.000000</td>\n",
       "    </tr>\n",
       "    <tr>\n",
       "      <th>mean</th>\n",
       "      <td>2018-10-16 00:00:00</td>\n",
       "      <td>16.829032</td>\n",
       "      <td>7.561290</td>\n",
       "      <td>10.022581</td>\n",
       "    </tr>\n",
       "    <tr>\n",
       "      <th>min</th>\n",
       "      <td>2018-10-01 00:00:00</td>\n",
       "      <td>7.800000</td>\n",
       "      <td>-1.100000</td>\n",
       "      <td>-1.100000</td>\n",
       "    </tr>\n",
       "    <tr>\n",
       "      <th>25%</th>\n",
       "      <td>2018-10-08 12:00:00</td>\n",
       "      <td>12.750000</td>\n",
       "      <td>2.500000</td>\n",
       "      <td>5.550000</td>\n",
       "    </tr>\n",
       "    <tr>\n",
       "      <th>50%</th>\n",
       "      <td>2018-10-16 00:00:00</td>\n",
       "      <td>16.100000</td>\n",
       "      <td>6.700000</td>\n",
       "      <td>8.300000</td>\n",
       "    </tr>\n",
       "    <tr>\n",
       "      <th>75%</th>\n",
       "      <td>2018-10-23 12:00:00</td>\n",
       "      <td>21.950000</td>\n",
       "      <td>13.600000</td>\n",
       "      <td>16.100000</td>\n",
       "    </tr>\n",
       "    <tr>\n",
       "      <th>max</th>\n",
       "      <td>2018-10-31 00:00:00</td>\n",
       "      <td>26.700000</td>\n",
       "      <td>17.800000</td>\n",
       "      <td>21.700000</td>\n",
       "    </tr>\n",
       "    <tr>\n",
       "      <th>std</th>\n",
       "      <td>NaN</td>\n",
       "      <td>5.714962</td>\n",
       "      <td>6.513252</td>\n",
       "      <td>6.596550</td>\n",
       "    </tr>\n",
       "  </tbody>\n",
       "</table>\n",
       "</div>"
      ],
      "text/plain": [
       "                      date       TMAX       TMIN       TOBS\n",
       "count                   31  31.000000  31.000000  31.000000\n",
       "mean   2018-10-16 00:00:00  16.829032   7.561290  10.022581\n",
       "min    2018-10-01 00:00:00   7.800000  -1.100000  -1.100000\n",
       "25%    2018-10-08 12:00:00  12.750000   2.500000   5.550000\n",
       "50%    2018-10-16 00:00:00  16.100000   6.700000   8.300000\n",
       "75%    2018-10-23 12:00:00  21.950000  13.600000  16.100000\n",
       "max    2018-10-31 00:00:00  26.700000  17.800000  21.700000\n",
       "std                    NaN   5.714962   6.513252   6.596550"
      ]
     },
     "execution_count": 7,
     "metadata": {},
     "output_type": "execute_result"
    }
   ],
   "source": [
    "wide_df.describe(include = 'all', datetime_is_numeric = True)"
   ]
  },
  {
   "cell_type": "markdown",
   "id": "5847039e-7555-4366-88a8-3cccb9fbf06d",
   "metadata": {},
   "source": [
    "### Long Data Format\n",
    "\n",
    "Long data ``DataFrame`` instances will essentially have 3 columns:\n",
    "\n",
    "* The main identifier for information (in this case, the date)\n",
    "* The datatype of the variable (the various variable names)\n",
    "* The value of a datatype\n",
    "\n",
    "Since my data has 3 variables per entry (``TMAX``, ``TMIN``, and ``TOBS``), each date will have three rows of data."
   ]
  },
  {
   "cell_type": "code",
   "execution_count": 8,
   "id": "9fc33f9c-9f0d-4797-aebf-f990fe3125c2",
   "metadata": {},
   "outputs": [
    {
     "data": {
      "text/html": [
       "<div>\n",
       "<style scoped>\n",
       "    .dataframe tbody tr th:only-of-type {\n",
       "        vertical-align: middle;\n",
       "    }\n",
       "\n",
       "    .dataframe tbody tr th {\n",
       "        vertical-align: top;\n",
       "    }\n",
       "\n",
       "    .dataframe thead th {\n",
       "        text-align: right;\n",
       "    }\n",
       "</style>\n",
       "<table border=\"1\" class=\"dataframe\">\n",
       "  <thead>\n",
       "    <tr style=\"text-align: right;\">\n",
       "      <th></th>\n",
       "      <th>date</th>\n",
       "      <th>datatype</th>\n",
       "      <th>value</th>\n",
       "    </tr>\n",
       "  </thead>\n",
       "  <tbody>\n",
       "    <tr>\n",
       "      <th>0</th>\n",
       "      <td>2018-10-01</td>\n",
       "      <td>TMAX</td>\n",
       "      <td>21.1</td>\n",
       "    </tr>\n",
       "    <tr>\n",
       "      <th>1</th>\n",
       "      <td>2018-10-01</td>\n",
       "      <td>TMIN</td>\n",
       "      <td>8.9</td>\n",
       "    </tr>\n",
       "    <tr>\n",
       "      <th>2</th>\n",
       "      <td>2018-10-01</td>\n",
       "      <td>TOBS</td>\n",
       "      <td>13.9</td>\n",
       "    </tr>\n",
       "    <tr>\n",
       "      <th>3</th>\n",
       "      <td>2018-10-02</td>\n",
       "      <td>TMAX</td>\n",
       "      <td>23.9</td>\n",
       "    </tr>\n",
       "    <tr>\n",
       "      <th>4</th>\n",
       "      <td>2018-10-02</td>\n",
       "      <td>TMIN</td>\n",
       "      <td>13.9</td>\n",
       "    </tr>\n",
       "    <tr>\n",
       "      <th>5</th>\n",
       "      <td>2018-10-02</td>\n",
       "      <td>TOBS</td>\n",
       "      <td>17.2</td>\n",
       "    </tr>\n",
       "  </tbody>\n",
       "</table>\n",
       "</div>"
      ],
      "text/plain": [
       "        date datatype  value\n",
       "0 2018-10-01     TMAX   21.1\n",
       "1 2018-10-01     TMIN    8.9\n",
       "2 2018-10-01     TOBS   13.9\n",
       "3 2018-10-02     TMAX   23.9\n",
       "4 2018-10-02     TMIN   13.9\n",
       "5 2018-10-02     TOBS   17.2"
      ]
     },
     "execution_count": 8,
     "metadata": {},
     "output_type": "execute_result"
    }
   ],
   "source": [
    "long_df.head(number_of_rows_to_get)"
   ]
  },
  {
   "cell_type": "markdown",
   "id": "106ad5e4-e2fc-4458-a90a-4da83aa1383b",
   "metadata": {},
   "source": [
    "Since plotting long format data in ``pandas`` can get quite tricky, I'll use ``seaborn`` instead."
   ]
  },
  {
   "cell_type": "code",
   "execution_count": 10,
   "id": "c90f5ca5-da9e-4ac5-9309-3c8e77593021",
   "metadata": {},
   "outputs": [
    {
     "data": {
      "image/png": "[encoded data removed]",
      "text/plain": [
       "<Figure size 1080x360 with 1 Axes>"
      ]
     },
     "metadata": {},
     "output_type": "display_data"
    }
   ],
   "source": [
    "# Seaborn variables\n",
    "y_label = 'Temperature in Celsius'\n",
    "\"\"\"\n",
    "str: The y-axis label for this seaborn plot.\n",
    "\"\"\"\n",
    "title = 'Temperature in NYC (October 2018)'\n",
    "\"\"\"\n",
    "str: The title for the seaborn plot.\n",
    "\"\"\"\n",
    "rc_dict = {'figure.figsize': (15, 5)}\n",
    "\"\"\"\n",
    "{str: (int, int)}: A dictionary defining the seaborn figure size.\n",
    "\"\"\"\n",
    "style_str = 'white'\n",
    "\"\"\"\n",
    "str: The style argument for the seaborn plot.\n",
    "\"\"\"\n",
    "\n",
    "# Drawing the plot\n",
    "sns.set_theme(rc = rc_dict, style = style_str)\n",
    "ax = sns.lineplot(\n",
    "    data = long_df,\n",
    "    x = 'date',\n",
    "    y = 'value',\n",
    "    hue = 'datatype'\n",
    ")\n",
    "ax.set_ylabel(y_label)\n",
    "ax.set_title(title)\n",
    "plt.show()"
   ]
  },
  {
   "cell_type": "markdown",
   "id": "b8a4c7f5-f66c-4e65-a185-cd164d813731",
   "metadata": {},
   "source": [
    "Now I can facet the plots using ``seaborn``."
   ]
  },
  {
   "cell_type": "code",
   "execution_count": null,
   "id": "77511c71-2fb9-45ac-8f86-b4ff57c2cacd",
   "metadata": {},
   "outputs": [],
   "source": [
    "rc_dict = {'figure.figsize': (20, 10)}\n",
    "font_scl = 2\n",
    "\"\"\"\n",
    "int: The scaling for fonts in the faceted plots.\n",
    "\"\"\""
   ]
  }
 ],
 "metadata": {
  "kernelspec": {
   "display_name": "pandas",
   "language": "python",
   "name": "pandas"
  },
  "language_info": {
   "codemirror_mode": {
    "name": "ipython",
    "version": 3
   },
   "file_extension": ".py",
   "mimetype": "text/x-python",
   "name": "python",
   "nbconvert_exporter": "python",
   "pygments_lexer": "ipython3",
   "version": "3.9.4"
  },
  "toc-autonumbering": true,
  "toc-showtags": true,
  "widgets": {
   "application/vnd.jupyter.widget-state+json": {
    "state": {},
    "version_major": 2,
    "version_minor": 0
   }
  }
 },
 "nbformat": 4,
 "nbformat_minor": 5
}
